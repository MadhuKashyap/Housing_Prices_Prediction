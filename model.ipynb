import pandas as pd
from sklearn.metrics import r2_score
from sklearn.preprocessing import StandardScaler
import matplotlib.pyplot as plt
%matplotlib notebook
import numpy as np
import seaborn as sns
import warnings
from sklearn.metrics import mean_squared_error
from math import sqrt
warnings.filterwarnings("ignore")
warnings.filterwarnings('ignore', category=DeprecationWarning)

pd.set_option('display.max_rows', 400)
pd.set_option('display.max_columns', 400)

import pandas as pd
df = pd.read_csv("train.csv")
df1 = pd.read_csv("test.csv")

df.shape

for col in df.columns:
    print(col)
    
df = df.drop(["Id", "Neighborhood", "MiscFeature", "FireplaceQu", "Alley", "PoolQC", "Fence", "Street", "Utilities", "LandSlope", "RoofMatl","MasVnrType", "ExterQual", "ExterCond", "Heating", "HeatingQC", "LowQualFinSF",    ], axis=1)
df1 = df1.drop(["Id", "Neighborhood", "MiscFeature", "FireplaceQu", "Alley", "PoolQC", "Fence", "Street", "Utilities", "LandSlope", "RoofMatl","MasVnrType", "ExterQual", "ExterCond", "Heating", "HeatingQC", "LowQualFinSF",    ], axis=1)


l = df.isnull().sum()   # finds total number of null values in each column
s = list(l)

df = df.dropna(how="any")pd.get_dummies(df.MSZoning)   #creates as many columns as distict values in MSZoning and fills 1 for column a where value of MSZoning is a 

dum = pd.get_dummies(df.LotShape)
print(dum)
merge = pd.concat([df,dum],axis=1)           #merging previous dataframe and dummies together along axis=column
print(merge)

a = pd.get_dummies(df['MSZoning'], prefix = "MSZoning")
b = pd.get_dummies(df['LotShape'], prefix = "LotShape")
c = pd.get_dummies(df['LandContour'], prefix = "LandContour")
d = pd.get_dummies(df['LotConfig'], prefix = "LotConfig")
e = pd.get_dummies(df['Condition1'], prefix = "Condition1")
f = pd.get_dummies(df['Condition2'], prefix = "Condition2")
g = pd.get_dummies(df['BldgType'], prefix = "BldgType")
h = pd.get_dummies(df['HouseStyle'], prefix = "HouseStyle")
i = pd.get_dummies(df['RoofStyle'], prefix = "RoofStyle")
j = pd.get_dummies(df['Exterior1st'], prefix = "Exterior1st")
k = pd.get_dummies(df['Exterior2nd'], prefix = "Exterior2nd")
l = pd.get_dummies(df['Foundation'], prefix = "Foundation")
m = pd.get_dummies(df['BsmtQual'], prefix = "BsmtQual")
n = pd.get_dummies(df['BsmtCond'], prefix = "BsmtCond")
o = pd.get_dummies(df['BsmtExposure'], prefix = "BsmtExposure")
p = pd.get_dummies(df['BsmtFinType1'], prefix = "BsmtFinType1")
q = pd.get_dummies(df['BsmtFinType2'], prefix = "BsmtFinType2")
r = pd.get_dummies(df['CentralAir'], prefix = "CentralAir")
s = pd.get_dummies(df['Electrical'], prefix = "Electrical")
t = pd.get_dummies(df['KitchenQual'], prefix = "KitchenQual")
u = pd.get_dummies(df['Functional'], prefix = "Functional")
v = pd.get_dummies(df['GarageType'], prefix = "GarageType")
w = pd.get_dummies(df['GarageFinish'], prefix = "GarageFinish")
x = pd.get_dummies(df['GarageQual'], prefix = "GarageQual")
y = pd.get_dummies(df['PavedDrive'], prefix = "PavedDrive")
z = pd.get_dummies(df['GarageCond'], prefix = "GarageCond")
z1 = pd.get_dummies(df['PavedDrive'], prefix = "PavedDrive")
z2 = pd.get_dummies(df['SaleCondition'], prefix = "SaleCondition")
z3 = pd.get_dummies(df['SaleType'], prefix = "SaleType")





frames = [df, a, b, c, d, e,f,g,h,i,j,k,l,m,n,o,p,q,r,s,t,u,v,w,x,y,z,z1,z2,z3]
df = pd.concat(frames, axis = 1)

df = df.drop(columns = ["MSZoning", "LotShape", "LandContour", "LotConfig", "Condition1", "Condition2", "BldgType", "HouseStyle",
"RoofStyle", "Exterior1st", "Exterior2nd", "Foundation", "BsmtQual", "BsmtCond", "BsmtExposure", "BsmtFinType1", "BsmtFinType2", "CentralAir",  "Electrical", "KitchenQual", "Functional", "GarageType",  "GarageFinish", "GarageQual",  "PavedDrive", "GarageCond", "PavedDrive", "SaleCondition", "SaleType" ])

x = df.drop(["SalePrice"], axis=1)
y = df["SalePrice"]

df.corr()

from sklearn.preprocessing import StandardScaler
scaler = StandardScaler() 
x = scaler.fit_transform(x)

import math
from sklearn.metrics import r2_score
from sklearn.linear_model import LinearRegression
from sklearn.metrics import mean_squared_error

model = LinearRegression()
model.fit(x, y)
y_pred = model.predict(x)

#R-Square value
    
coefficient_of_dermination = r2_score(y, y_pred)
print("R-Squared Value: {}".format(coefficient_of_dermination))

rms = math.sqrt(mean_squared_error(y, y_pred))
print("RMSE: {}".format(rms))
